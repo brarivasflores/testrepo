{
 "cells": [
  {
   "cell_type": "markdown",
   "id": "472a3f17-6502-4344-a258-cc32c296fb2a",
   "metadata": {},
   "source": [
    "#  \"My Jupyter Notebook on IBM Watson Studio\""
   ]
  },
  {
   "cell_type": "markdown",
   "id": "829b04ea-a208-4a1a-be8b-295082d296f5",
   "metadata": {},
   "source": [
    "**Brayean Rivas**\n",
    "\n",
    "Iam a Maritime Engineer, My desire occupation is Data Scientist"
   ]
  },
  {
   "cell_type": "markdown",
   "id": "d46c7fed-c7b6-455e-8145-89141f15493b",
   "metadata": {},
   "source": [
    "*I am interested in data science because simplifies decision making, and I like data science because it can improve the operational and administrative processes of a company*"
   ]
  },
  {
   "cell_type": "markdown",
   "id": "a82f9684-ac6a-4d2a-9734-4a740186ca96",
   "metadata": {},
   "source": [
    "### In cell 5, a mathematical operation is performed"
   ]
  },
  {
   "cell_type": "code",
   "execution_count": 3,
   "id": "c2c0d47e-9f79-4f37-b2d7-157b56d623a1",
   "metadata": {},
   "outputs": [
    {
     "data": {
      "text/plain": [
       "4"
      ]
     },
     "execution_count": 3,
     "metadata": {},
     "output_type": "execute_result"
    }
   ],
   "source": [
    "9//2"
   ]
  },
  {
   "cell_type": "markdown",
   "id": "1b4fa348-cb3d-499e-b253-427a1474bc98",
   "metadata": {},
   "source": [
    "Hello `Welcome` to My world `Learning` Data Science.\n",
    "\n",
    "> You Can Find A link directly to Google\n",
    "\n",
    "[https://www.google.com](https://www.google.com)\n",
    "\n",
    "> Thanks for check My Presentation\n",
    "\n",
    "***"
   ]
  },
  {
   "cell_type": "code",
   "execution_count": null,
   "id": "9744221d-918c-448d-abec-1209c2f3f28b",
   "metadata": {},
   "outputs": [],
   "source": []
  }
 ],
 "metadata": {
  "kernelspec": {
   "display_name": "Python",
   "language": "python",
   "name": "conda-env-python-py"
  },
  "language_info": {
   "codemirror_mode": {
    "name": "ipython",
    "version": 3
   },
   "file_extension": ".py",
   "mimetype": "text/x-python",
   "name": "python",
   "nbconvert_exporter": "python",
   "pygments_lexer": "ipython3",
   "version": "3.7.12"
  }
 },
 "nbformat": 4,
 "nbformat_minor": 5
}
